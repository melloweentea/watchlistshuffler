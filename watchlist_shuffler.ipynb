{
 "cells": [
  {
   "cell_type": "code",
   "execution_count": 15,
   "metadata": {},
   "outputs": [],
   "source": [
    "import pandas as pd\n",
    "import random "
   ]
  },
  {
   "cell_type": "code",
   "execution_count": 16,
   "metadata": {},
   "outputs": [
    {
     "data": {
      "text/html": [
       "<div>\n",
       "<style scoped>\n",
       "    .dataframe tbody tr th:only-of-type {\n",
       "        vertical-align: middle;\n",
       "    }\n",
       "\n",
       "    .dataframe tbody tr th {\n",
       "        vertical-align: top;\n",
       "    }\n",
       "\n",
       "    .dataframe thead th {\n",
       "        text-align: right;\n",
       "    }\n",
       "</style>\n",
       "<table border=\"1\" class=\"dataframe\">\n",
       "  <thead>\n",
       "    <tr style=\"text-align: right;\">\n",
       "      <th></th>\n",
       "      <th>Date</th>\n",
       "      <th>Name</th>\n",
       "      <th>Year</th>\n",
       "      <th>Letterboxd URI</th>\n",
       "    </tr>\n",
       "  </thead>\n",
       "  <tbody>\n",
       "    <tr>\n",
       "      <th>0</th>\n",
       "      <td>2021-05-09</td>\n",
       "      <td>Whiplash</td>\n",
       "      <td>2014.0</td>\n",
       "      <td>https://boxd.it/7bQA</td>\n",
       "    </tr>\n",
       "    <tr>\n",
       "      <th>1</th>\n",
       "      <td>2021-05-09</td>\n",
       "      <td>Reservoir Dogs</td>\n",
       "      <td>1992.0</td>\n",
       "      <td>https://boxd.it/2agc</td>\n",
       "    </tr>\n",
       "    <tr>\n",
       "      <th>2</th>\n",
       "      <td>2021-05-09</td>\n",
       "      <td>Nomadland</td>\n",
       "      <td>2020.0</td>\n",
       "      <td>https://boxd.it/lnRy</td>\n",
       "    </tr>\n",
       "    <tr>\n",
       "      <th>3</th>\n",
       "      <td>2021-05-09</td>\n",
       "      <td>1917</td>\n",
       "      <td>2019.0</td>\n",
       "      <td>https://boxd.it/jj4y</td>\n",
       "    </tr>\n",
       "    <tr>\n",
       "      <th>4</th>\n",
       "      <td>2021-05-09</td>\n",
       "      <td>Dunkirk</td>\n",
       "      <td>2017.0</td>\n",
       "      <td>https://boxd.it/d0Y6</td>\n",
       "    </tr>\n",
       "    <tr>\n",
       "      <th>...</th>\n",
       "      <td>...</td>\n",
       "      <td>...</td>\n",
       "      <td>...</td>\n",
       "      <td>...</td>\n",
       "    </tr>\n",
       "    <tr>\n",
       "      <th>397</th>\n",
       "      <td>2023-10-09</td>\n",
       "      <td>Pink Flamingos</td>\n",
       "      <td>1972.0</td>\n",
       "      <td>https://boxd.it/29NO</td>\n",
       "    </tr>\n",
       "    <tr>\n",
       "      <th>398</th>\n",
       "      <td>2023-10-09</td>\n",
       "      <td>Stranger Than Paradise</td>\n",
       "      <td>1984.0</td>\n",
       "      <td>https://boxd.it/2ajU</td>\n",
       "    </tr>\n",
       "    <tr>\n",
       "      <th>399</th>\n",
       "      <td>2023-10-11</td>\n",
       "      <td>House of Hummingbird</td>\n",
       "      <td>2018.0</td>\n",
       "      <td>https://boxd.it/jZ8C</td>\n",
       "    </tr>\n",
       "    <tr>\n",
       "      <th>400</th>\n",
       "      <td>2023-10-12</td>\n",
       "      <td>Tigertail</td>\n",
       "      <td>2020.0</td>\n",
       "      <td>https://boxd.it/jRik</td>\n",
       "    </tr>\n",
       "    <tr>\n",
       "      <th>401</th>\n",
       "      <td>2023-10-12</td>\n",
       "      <td>Come Here</td>\n",
       "      <td>2021.0</td>\n",
       "      <td>https://boxd.it/tVqC</td>\n",
       "    </tr>\n",
       "  </tbody>\n",
       "</table>\n",
       "<p>402 rows × 4 columns</p>\n",
       "</div>"
      ],
      "text/plain": [
       "           Date                    Name    Year        Letterboxd URI\n",
       "0    2021-05-09                Whiplash  2014.0  https://boxd.it/7bQA\n",
       "1    2021-05-09          Reservoir Dogs  1992.0  https://boxd.it/2agc\n",
       "2    2021-05-09               Nomadland  2020.0  https://boxd.it/lnRy\n",
       "3    2021-05-09                    1917  2019.0  https://boxd.it/jj4y\n",
       "4    2021-05-09                 Dunkirk  2017.0  https://boxd.it/d0Y6\n",
       "..          ...                     ...     ...                   ...\n",
       "397  2023-10-09          Pink Flamingos  1972.0  https://boxd.it/29NO\n",
       "398  2023-10-09  Stranger Than Paradise  1984.0  https://boxd.it/2ajU\n",
       "399  2023-10-11    House of Hummingbird  2018.0  https://boxd.it/jZ8C\n",
       "400  2023-10-12               Tigertail  2020.0  https://boxd.it/jRik\n",
       "401  2023-10-12               Come Here  2021.0  https://boxd.it/tVqC\n",
       "\n",
       "[402 rows x 4 columns]"
      ]
     },
     "execution_count": 16,
     "metadata": {},
     "output_type": "execute_result"
    }
   ],
   "source": [
    "df = pd.read_csv(\"watchlist-letterboxd.csv\")\n",
    "df"
   ]
  },
  {
   "cell_type": "code",
   "execution_count": 36,
   "metadata": {},
   "outputs": [
    {
     "data": {
      "text/plain": [
       "402"
      ]
     },
     "execution_count": 36,
     "metadata": {},
     "output_type": "execute_result"
    }
   ],
   "source": [
    "df.index.stop"
   ]
  },
  {
   "cell_type": "code",
   "execution_count": 37,
   "metadata": {},
   "outputs": [],
   "source": [
    "no_rows =  df.size // 4 #or df.index.stop"
   ]
  },
  {
   "cell_type": "code",
   "execution_count": 53,
   "metadata": {},
   "outputs": [],
   "source": [
    "random_film_idx = random.randint(0, no_rows - 1)"
   ]
  },
  {
   "cell_type": "code",
   "execution_count": 56,
   "metadata": {},
   "outputs": [
    {
     "name": "stdout",
     "output_type": "stream",
     "text": [
      "you should watch Sorry to Bother You, 2018\n"
     ]
    }
   ],
   "source": [
    "movie_name = df.iloc[random_film_idx].Name\n",
    "movie_year = int(df.iloc[random_film_idx].Year)\n",
    "letterboxd_URL = df.iloc[random_film_idx][\"Letterboxd URI\"]\n",
    "print(f\"Today you should watch {movie_name}, {movie_year}\")"
   ]
  },
  {
   "cell_type": "code",
   "execution_count": 30,
   "metadata": {},
   "outputs": [
    {
     "name": "stdout",
     "output_type": "stream",
     "text": [
      "_is_copy : <weakref at 0x10f87b130; to 'DataFrame' at 0x11f2c1040>\n",
      "_mgr : SingleBlockManager\n",
      "Items: Index(['Date', 'Name', 'Year', 'Letterboxd URI'], dtype='object')\n",
      "ObjectBlock: 4 dtype: object\n",
      "_item_cache : {}\n",
      "_attrs : {}\n",
      "_flags : <Flags(allows_duplicate_labels=True)>\n",
      "_name : 369\n"
     ]
    }
   ],
   "source": [
    "for property, value in vars(df.iloc[random_film_idx]).items():\n",
    "    print(property, \":\", value)\n"
   ]
  }
 ],
 "metadata": {
  "kernelspec": {
   "display_name": "nlp",
   "language": "python",
   "name": "python3"
  },
  "language_info": {
   "codemirror_mode": {
    "name": "ipython",
    "version": 3
   },
   "file_extension": ".py",
   "mimetype": "text/x-python",
   "name": "python",
   "nbconvert_exporter": "python",
   "pygments_lexer": "ipython3",
   "version": "3.9.16"
  }
 },
 "nbformat": 4,
 "nbformat_minor": 2
}
